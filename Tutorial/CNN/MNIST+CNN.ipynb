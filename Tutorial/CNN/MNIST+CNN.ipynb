{
 "cells": [
  {
   "cell_type": "markdown",
   "metadata": {},
   "source": [
    "# CNN Using MNIST Data Set"
   ]
  },
  {
   "cell_type": "code",
   "execution_count": 2,
   "metadata": {
    "collapsed": true
   },
   "outputs": [],
   "source": [
    "import tensorflow as tf"
   ]
  },
  {
   "cell_type": "markdown",
   "metadata": {},
   "source": [
    "### Import MNIST Data"
   ]
  },
  {
   "cell_type": "code",
   "execution_count": 3,
   "metadata": {
    "collapsed": true
   },
   "outputs": [],
   "source": [
    "from tensorflow.examples.tutorials.mnist import input_data"
   ]
  },
  {
   "cell_type": "code",
   "execution_count": 4,
   "metadata": {},
   "outputs": [
    {
     "name": "stdout",
     "output_type": "stream",
     "text": [
      "Extracting MNIST_data/train-images-idx3-ubyte.gz\n",
      "Extracting MNIST_data/train-labels-idx1-ubyte.gz\n",
      "Extracting MNIST_data/t10k-images-idx3-ubyte.gz\n",
      "Extracting MNIST_data/t10k-labels-idx1-ubyte.gz\n"
     ]
    }
   ],
   "source": [
    "mnist = input_data.read_data_sets(\"MNIST_data/\", one_hot = True)"
   ]
  },
  {
   "cell_type": "markdown",
   "metadata": {},
   "source": [
    "### Helper Functions:\n",
    "- Initialize the weights of a layer\n",
    "- Initialize the bias of a layer\n",
    "- Return a 2D convolution\n",
    "- Pooling"
   ]
  },
  {
   "cell_type": "code",
   "execution_count": 5,
   "metadata": {
    "collapsed": true
   },
   "outputs": [],
   "source": [
    "# Weights\n",
    "def init_weights(shape):\n",
    "    init_random_dist = tf.truncated_normal(shape, stddev = 0.1)\n",
    "    return tf.Variable(init_random_dist)"
   ]
  },
  {
   "cell_type": "code",
   "execution_count": 6,
   "metadata": {
    "collapsed": true
   },
   "outputs": [],
   "source": [
    "# Bias\n",
    "def init_bias(shape):\n",
    "    init_bias_vals = tf.constant(0.1, shape = shape)\n",
    "    return tf.Variable(init_bias_vals)"
   ]
  },
  {
   "cell_type": "code",
   "execution_count": 7,
   "metadata": {
    "collapsed": true
   },
   "outputs": [],
   "source": [
    "# 2D convolution\n",
    "def conv2d(x,W):\n",
    "    # x -> [batch, Height, Width, Channel(grayscale)]\n",
    "    # W -> [filter Height, filter Width, Channels IN, Channels OUT]\n",
    "    \n",
    "    return tf.nn.conv2d(x,W,strides = [1,1,1,1],padding = 'SAME')"
   ]
  },
  {
   "cell_type": "code",
   "execution_count": 8,
   "metadata": {
    "collapsed": true
   },
   "outputs": [],
   "source": [
    "# Pooling\n",
    "def max_pool_2by2(x):\n",
    "    # x -> [batch, Height, Width, Channel]\n",
    "    return tf.nn.max_pool(x, ksize = [1,2,2,1],strides = [1,2,2,1], padding = 'SAME')"
   ]
  },
  {
   "cell_type": "code",
   "execution_count": 9,
   "metadata": {
    "collapsed": true
   },
   "outputs": [],
   "source": [
    "# Convolutional layer\n",
    "def convolutional_layer(input_x, shape):\n",
    "    W = init_weights(shape)\n",
    "    b = init_bias([shape[3]])\n",
    "    # Activation function ReLu\n",
    "    return tf.nn.relu(conv2d(input_x, W) + b)"
   ]
  },
  {
   "cell_type": "code",
   "execution_count": 10,
   "metadata": {
    "collapsed": true
   },
   "outputs": [],
   "source": [
    "# Normal fully connected layer\n",
    "def normal_full_layer(input_layer, size):\n",
    "    input_size = int(input_layer.get_shape()[1])\n",
    "    W = init_weights([input_size, size])\n",
    "    b = init_bias([size])\n",
    "    return tf.matmul(input_layer, W) + b"
   ]
  },
  {
   "cell_type": "markdown",
   "metadata": {},
   "source": [
    "### Build CNN Model"
   ]
  },
  {
   "cell_type": "code",
   "execution_count": 11,
   "metadata": {
    "collapsed": true
   },
   "outputs": [],
   "source": [
    "# Placeholders\n",
    "x = tf.placeholder(tf.float32, shape = [None, 784])"
   ]
  },
  {
   "cell_type": "code",
   "execution_count": 12,
   "metadata": {
    "collapsed": true
   },
   "outputs": [],
   "source": [
    "y_true = tf.placeholder(tf.float32, shape = [None, 10])"
   ]
  },
  {
   "cell_type": "code",
   "execution_count": 13,
   "metadata": {
    "collapsed": true
   },
   "outputs": [],
   "source": [
    "# Layers \n",
    "x_image = tf.reshape(x, [-1,28,28,1]) # Input image"
   ]
  },
  {
   "cell_type": "code",
   "execution_count": 14,
   "metadata": {
    "collapsed": true
   },
   "outputs": [],
   "source": [
    "# 32 features per 5x5 patch grayscale (1-channel)\n",
    "convo_1 = convolutional_layer(x_image, shape = [5,5,1,32]) \n",
    "convo_1_pooling = max_pool_2by2(convo_1)"
   ]
  },
  {
   "cell_type": "code",
   "execution_count": 15,
   "metadata": {
    "collapsed": true
   },
   "outputs": [],
   "source": [
    "convo_2 = convolutional_layer(convo_1_pooling, shape = [5,5,32,64])\n",
    "convo_2_pooling = max_pool_2by2(convo_2)"
   ]
  },
  {
   "cell_type": "code",
   "execution_count": 16,
   "metadata": {
    "collapsed": true
   },
   "outputs": [],
   "source": [
    "# Flatten layer\n",
    "convo_2_flat = tf.reshape(convo_2_pooling, [-1,7*7*64])\n",
    "full_layer_one = tf.nn.relu(normal_full_layer(convo_2_flat,1024))"
   ]
  },
  {
   "cell_type": "code",
   "execution_count": 17,
   "metadata": {
    "collapsed": true
   },
   "outputs": [],
   "source": [
    "# Dropout \n",
    "hold_prob = tf.placeholder(tf.float32)\n",
    "full_one_dropout = tf.nn.dropout(full_layer_one, keep_prob = hold_prob)"
   ]
  },
  {
   "cell_type": "code",
   "execution_count": 18,
   "metadata": {
    "collapsed": true
   },
   "outputs": [],
   "source": [
    "y_pred = normal_full_layer(full_one_dropout, 10)"
   ]
  },
  {
   "cell_type": "code",
   "execution_count": 19,
   "metadata": {
    "collapsed": true
   },
   "outputs": [],
   "source": [
    "# Loss function\n",
    "cross_entropy = tf.reduce_mean(tf.nn.softmax_cross_entropy_with_logits(labels = y_true, logits =y_pred))"
   ]
  },
  {
   "cell_type": "code",
   "execution_count": 20,
   "metadata": {
    "collapsed": true
   },
   "outputs": [],
   "source": [
    "# Optimizer - Adam\n",
    "optimizer = tf.train.AdamOptimizer(learning_rate = 0.001)\n",
    "train = optimizer.minimize(cross_entropy)"
   ]
  },
  {
   "cell_type": "code",
   "execution_count": 21,
   "metadata": {
    "collapsed": true
   },
   "outputs": [],
   "source": [
    "init = tf.global_variables_initializer()"
   ]
  },
  {
   "cell_type": "code",
   "execution_count": 22,
   "metadata": {},
   "outputs": [
    {
     "name": "stdout",
     "output_type": "stream",
     "text": [
      "On Step: 0\n",
      "Accuracy: \n",
      "0.1102\n",
      "\n",
      "\n",
      "On Step: 100\n",
      "Accuracy: \n",
      "0.944\n",
      "\n",
      "\n",
      "On Step: 200\n",
      "Accuracy: \n",
      "0.9637\n",
      "\n",
      "\n",
      "On Step: 300\n",
      "Accuracy: \n",
      "0.9679\n",
      "\n",
      "\n",
      "On Step: 400\n",
      "Accuracy: \n",
      "0.9713\n",
      "\n",
      "\n",
      "On Step: 500\n",
      "Accuracy: \n",
      "0.98\n",
      "\n",
      "\n",
      "On Step: 600\n",
      "Accuracy: \n",
      "0.9794\n",
      "\n",
      "\n",
      "On Step: 700\n",
      "Accuracy: \n",
      "0.9794\n",
      "\n",
      "\n",
      "On Step: 800\n",
      "Accuracy: \n",
      "0.9799\n",
      "\n",
      "\n",
      "On Step: 900\n",
      "Accuracy: \n",
      "0.98\n",
      "\n",
      "\n",
      "On Step: 1000\n",
      "Accuracy: \n",
      "0.9844\n",
      "\n",
      "\n",
      "On Step: 1100\n",
      "Accuracy: \n",
      "0.9826\n",
      "\n",
      "\n",
      "On Step: 1200\n",
      "Accuracy: \n",
      "0.9841\n",
      "\n",
      "\n",
      "On Step: 1300\n",
      "Accuracy: \n",
      "0.9885\n",
      "\n",
      "\n",
      "On Step: 1400\n",
      "Accuracy: \n",
      "0.981\n",
      "\n",
      "\n",
      "On Step: 1500\n",
      "Accuracy: \n",
      "0.986\n",
      "\n",
      "\n",
      "On Step: 1600\n",
      "Accuracy: \n",
      "0.989\n",
      "\n",
      "\n",
      "On Step: 1700\n",
      "Accuracy: \n",
      "0.9871\n",
      "\n",
      "\n",
      "On Step: 1800\n",
      "Accuracy: \n",
      "0.9872\n",
      "\n",
      "\n",
      "On Step: 1900\n",
      "Accuracy: \n",
      "0.9884\n",
      "\n",
      "\n",
      "On Step: 2000\n",
      "Accuracy: \n",
      "0.9893\n",
      "\n",
      "\n",
      "On Step: 2100\n",
      "Accuracy: \n",
      "0.9852\n",
      "\n",
      "\n",
      "On Step: 2200\n",
      "Accuracy: \n",
      "0.9879\n",
      "\n",
      "\n",
      "On Step: 2300\n",
      "Accuracy: \n",
      "0.9891\n",
      "\n",
      "\n",
      "On Step: 2400\n",
      "Accuracy: \n",
      "0.9879\n",
      "\n",
      "\n",
      "On Step: 2500\n",
      "Accuracy: \n",
      "0.9873\n",
      "\n",
      "\n",
      "On Step: 2600\n",
      "Accuracy: \n",
      "0.9883\n",
      "\n",
      "\n",
      "On Step: 2700\n",
      "Accuracy: \n",
      "0.9883\n",
      "\n",
      "\n",
      "On Step: 2800\n",
      "Accuracy: \n",
      "0.989\n",
      "\n",
      "\n",
      "On Step: 2900\n",
      "Accuracy: \n",
      "0.9882\n",
      "\n",
      "\n",
      "On Step: 3000\n",
      "Accuracy: \n",
      "0.9862\n",
      "\n",
      "\n",
      "On Step: 3100\n",
      "Accuracy: \n",
      "0.9913\n",
      "\n",
      "\n",
      "On Step: 3200\n",
      "Accuracy: \n",
      "0.99\n",
      "\n",
      "\n",
      "On Step: 3300\n",
      "Accuracy: \n",
      "0.9905\n",
      "\n",
      "\n",
      "On Step: 3400\n",
      "Accuracy: \n",
      "0.989\n",
      "\n",
      "\n",
      "On Step: 3500\n",
      "Accuracy: \n",
      "0.9886\n",
      "\n",
      "\n",
      "On Step: 3600\n",
      "Accuracy: \n",
      "0.9904\n",
      "\n",
      "\n",
      "On Step: 3700\n",
      "Accuracy: \n",
      "0.9843\n",
      "\n",
      "\n",
      "On Step: 3800\n",
      "Accuracy: \n",
      "0.9904\n",
      "\n",
      "\n",
      "On Step: 3900\n",
      "Accuracy: \n",
      "0.9899\n",
      "\n",
      "\n",
      "On Step: 4000\n",
      "Accuracy: \n",
      "0.9899\n",
      "\n",
      "\n",
      "On Step: 4100\n",
      "Accuracy: \n",
      "0.9899\n",
      "\n",
      "\n",
      "On Step: 4200\n",
      "Accuracy: \n",
      "0.9898\n",
      "\n",
      "\n",
      "On Step: 4300\n",
      "Accuracy: \n",
      "0.9895\n",
      "\n",
      "\n",
      "On Step: 4400\n",
      "Accuracy: \n",
      "0.9899\n",
      "\n",
      "\n",
      "On Step: 4500\n",
      "Accuracy: \n",
      "0.992\n",
      "\n",
      "\n",
      "On Step: 4600\n",
      "Accuracy: \n",
      "0.9914\n",
      "\n",
      "\n",
      "On Step: 4700\n",
      "Accuracy: \n",
      "0.9892\n",
      "\n",
      "\n",
      "On Step: 4800\n",
      "Accuracy: \n",
      "0.9906\n",
      "\n",
      "\n",
      "On Step: 4900\n",
      "Accuracy: \n",
      "0.9904\n",
      "\n",
      "\n"
     ]
    }
   ],
   "source": [
    "steps = 5000\n",
    "\n",
    "with tf.Session() as sess:\n",
    "    \n",
    "    sess.run(init)\n",
    "    \n",
    "    for i in range(steps):\n",
    "        \n",
    "        batch_x, batch_y = mnist.train.next_batch(50)\n",
    "        # 50% dropout probability\n",
    "        sess.run(train, feed_dict = {x: batch_x, y_true: batch_y, hold_prob: 0.5})\n",
    "        \n",
    "        # Check accuracy every 100 steps\n",
    "        if i%100 == 0:\n",
    "            \n",
    "            print(\"On Step: {}\".format(i))\n",
    "            print(\"Accuracy: \")\n",
    "            \n",
    "            # Calculate + cast\n",
    "            matches = tf.equal(tf.argmax(y_pred,1), tf.argmax(y_true,1))\n",
    "            acc = tf.reduce_mean(tf.cast(matches,tf.float32))\n",
    "            \n",
    "            print(sess.run(acc, feed_dict = {x:mnist.test.images,y_true: mnist.test.labels,hold_prob:1.0}))\n",
    "            print('\\n')\n",
    "            "
   ]
  },
  {
   "cell_type": "markdown",
   "metadata": {
    "collapsed": true
   },
   "source": [
    "### ~99.04% accuracy on model"
   ]
  },
  {
   "cell_type": "code",
   "execution_count": null,
   "metadata": {
    "collapsed": true
   },
   "outputs": [],
   "source": []
  }
 ],
 "metadata": {
  "kernelspec": {
   "display_name": "Python 3",
   "language": "python",
   "name": "python3"
  },
  "language_info": {
   "codemirror_mode": {
    "name": "ipython",
    "version": 3
   },
   "file_extension": ".py",
   "mimetype": "text/x-python",
   "name": "python",
   "nbconvert_exporter": "python",
   "pygments_lexer": "ipython3",
   "version": "3.5.4"
  }
 },
 "nbformat": 4,
 "nbformat_minor": 2
}
